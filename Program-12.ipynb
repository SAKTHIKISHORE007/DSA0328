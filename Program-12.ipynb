{
  "nbformat": 4,
  "nbformat_minor": 0,
  "metadata": {
    "colab": {
      "provenance": [],
      "authorship_tag": "ABX9TyOnaI+Ea9VPvNzXGYcE/h9/",
      "include_colab_link": true
    },
    "kernelspec": {
      "name": "python3",
      "display_name": "Python 3"
    },
    "language_info": {
      "name": "python"
    }
  },
  "cells": [
    {
      "cell_type": "markdown",
      "metadata": {
        "id": "view-in-github",
        "colab_type": "text"
      },
      "source": [
        "<a href=\"https://colab.research.google.com/github/LohithVarun/DSA0328-Natural-Language-Processing/blob/main/Program-12.ipynb\" target=\"_parent\"><img src=\"https://colab.research.google.com/assets/colab-badge.svg\" alt=\"Open In Colab\"/></a>"
      ]
    },
    {
      "cell_type": "code",
      "source": [
        "class EarleyState:\n",
        "    def __init__(self, rule, dot, start, current):\n",
        "        self.rule = rule\n",
        "        self.dot = dot\n",
        "        self.start = start\n",
        "        self.current = current\n",
        "\n",
        "    def __str__(self):\n",
        "        rule_str = f\"{self.rule[0]} → \"\n",
        "        rule_str += \" \".join(self.rule[1][:self.dot])\n",
        "        rule_str += \" • \"\n",
        "        rule_str += \" \".join(self.rule[1][self.dot:])\n",
        "        return f\"({rule_str}, {self.start}, {self.current})\"\n",
        "\n",
        "class EarleyParser:\n",
        "    def __init__(self):\n",
        "        self.grammar = {\n",
        "            'S': [['NP', 'VP']],\n",
        "            'NP': [['Det', 'N']],\n",
        "            'VP': [['V', 'NP']],\n",
        "            'Det': [['the']],\n",
        "            'N': [['cat'], ['dog']],\n",
        "            'V': [['chased']]\n",
        "        }\n",
        "\n",
        "    def parse(self, tokens):\n",
        "        chart = [[] for _ in range(len(tokens) + 1)]\n",
        "\n",
        "        # Add initial state at the beginning of the parsing process\n",
        "        chart[0].append(EarleyState(('gamma', ['S']), 0, 0, 0))\n",
        "\n",
        "        for i in range(len(tokens) + 1):\n",
        "            for state in chart[i]:\n",
        "                if state.dot < len(state.rule[1]):\n",
        "                    next_cat = state.rule[1][state.dot]\n",
        "                    if next_cat in self.grammar:\n",
        "                        self.predictor(state, chart[i])\n",
        "                    else:\n",
        "                        self.scanner(state, tokens, chart)\n",
        "                else:\n",
        "                    self.completer(state, chart)\n",
        "\n",
        "        return chart\n",
        "\n",
        "    def predictor(self, state, chart_entry):\n",
        "        next_cat = state.rule[1][state.dot]\n",
        "        for rule in [(next_cat, rhs) for rhs in self.grammar[next_cat]]:\n",
        "            chart_entry.append(EarleyState(rule, 0, state.current, state.current))\n",
        "\n",
        "    def scanner(self, state, tokens, chart):\n",
        "        if state.current < len(tokens):\n",
        "            next_cat = state.rule[1][state.dot]\n",
        "            if tokens[state.current] in [rhs[0] for rhs in self.grammar.get(next_cat, [])]:\n",
        "                chart[state.current + 1].append(\n",
        "                    EarleyState(state.rule, state.dot + 1, state.start, state.current + 1)\n",
        "                )\n",
        "\n",
        "    def completer(self, state, chart):\n",
        "        for s in chart[state.start]:\n",
        "            if s.dot < len(s.rule[1]) and s.rule[1][s.dot] == state.rule[0]:\n",
        "                chart[state.current].append(\n",
        "                    EarleyState(s.rule, s.dot + 1, s.start, state.current)\n",
        "                )\n",
        "\n",
        "parser = EarleyParser()\n",
        "tokens = ['the', 'cat', 'chased', 'the', 'dog']\n",
        "chart = parser.parse(tokens)\n",
        "\n",
        "print(\"Parsing states at each position:\")\n",
        "for i, entry in enumerate(chart):\n",
        "    print(f\"\\nPosition {i}:\")\n",
        "    for state in entry:\n",
        "        print(state)"
      ],
      "metadata": {
        "colab": {
          "base_uri": "https://localhost:8080/"
        },
        "id": "UnXuVsbLKOGl",
        "outputId": "93988288-1855-4b6c-e21b-48c78dd0b841"
      },
      "execution_count": 27,
      "outputs": [
        {
          "output_type": "stream",
          "name": "stdout",
          "text": [
            "Parsing states at each position:\n",
            "\n",
            "Position 0:\n",
            "(gamma →  • S, 0, 0)\n",
            "(S →  • NP VP, 0, 0)\n",
            "(NP →  • Det N, 0, 0)\n",
            "(Det →  • the, 0, 0)\n",
            "\n",
            "Position 1:\n",
            "\n",
            "Position 2:\n",
            "\n",
            "Position 3:\n",
            "\n",
            "Position 4:\n",
            "\n",
            "Position 5:\n"
          ]
        }
      ]
    }
  ]
}